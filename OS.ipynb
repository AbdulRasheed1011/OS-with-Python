{
 "cells": [
  {
   "cell_type": "code",
   "execution_count": 1,
   "id": "6b855814",
   "metadata": {},
   "outputs": [],
   "source": [
    "import os"
   ]
  },
  {
   "cell_type": "code",
   "execution_count": 2,
   "id": "5cb4a057",
   "metadata": {},
   "outputs": [
    {
     "data": {
      "text/plain": [
       "'/Users/abdulrasheed/Desktop/Data Science'"
      ]
     },
     "execution_count": 2,
     "metadata": {},
     "output_type": "execute_result"
    }
   ],
   "source": [
    "os.getcwd()"
   ]
  },
  {
   "cell_type": "code",
   "execution_count": 3,
   "id": "a454d428",
   "metadata": {},
   "outputs": [
    {
     "data": {
      "text/plain": [
       "'/Users/abdulrasheed/Desktop/Data Science'"
      ]
     },
     "execution_count": 3,
     "metadata": {},
     "output_type": "execute_result"
    }
   ],
   "source": [
    "pwd"
   ]
  },
  {
   "cell_type": "code",
   "execution_count": 4,
   "id": "7788152f",
   "metadata": {},
   "outputs": [
    {
     "name": "stdout",
     "output_type": "stream",
     "text": [
      " Cover letter.docx                Probability in Data Science.docx\r\n",
      "\u001b[31mCU5B0241.JPG\u001b[m\u001b[m*                     Reading,writing a file.ipynb\r\n",
      "Data Science.docx                 Untitled.ipynb\r\n",
      "Data.txt                          Untitled1.ipynb\r\n",
      "\u001b[34mFile\u001b[m\u001b[m/                             Untitled2.ipynb\r\n",
      "I94 - Official Website.pdf        housing_price_data.csv\r\n",
      "\u001b[34mInventory Management with Json\u001b[m\u001b[m/   python.txt\r\n",
      "\u001b[34mInventory management with files\u001b[m\u001b[m/  resume.docx\r\n",
      "OS.ipynb                          words.txt\r\n"
     ]
    }
   ],
   "source": [
    "ls"
   ]
  },
  {
   "cell_type": "code",
   "execution_count": 5,
   "id": "00ab228e",
   "metadata": {},
   "outputs": [],
   "source": [
    "os.chdir(\"Inventory Management with Json\")"
   ]
  },
  {
   "cell_type": "code",
   "execution_count": 6,
   "id": "3058e1ca",
   "metadata": {},
   "outputs": [
    {
     "data": {
      "text/plain": [
       "'/Users/abdulrasheed/Desktop/Data Science/Inventory Management with Json'"
      ]
     },
     "execution_count": 6,
     "metadata": {},
     "output_type": "execute_result"
    }
   ],
   "source": [
    "os.getcwd()"
   ]
  },
  {
   "cell_type": "code",
   "execution_count": 7,
   "id": "fd34c0e5",
   "metadata": {},
   "outputs": [],
   "source": [
    "os.chdir('../')"
   ]
  },
  {
   "cell_type": "code",
   "execution_count": 8,
   "id": "5c92a235",
   "metadata": {},
   "outputs": [
    {
     "data": {
      "text/plain": [
       "'/Users/abdulrasheed/Desktop/Data Science'"
      ]
     },
     "execution_count": 8,
     "metadata": {},
     "output_type": "execute_result"
    }
   ],
   "source": [
    "os.getcwd()"
   ]
  },
  {
   "cell_type": "code",
   "execution_count": 9,
   "id": "a7528ab7",
   "metadata": {},
   "outputs": [],
   "source": [
    "#creating folder"
   ]
  },
  {
   "cell_type": "code",
   "execution_count": 10,
   "id": "946f0b6b",
   "metadata": {},
   "outputs": [],
   "source": [
    "os.mkdir(\"example folder\")"
   ]
  },
  {
   "cell_type": "code",
   "execution_count": 11,
   "id": "eb181087",
   "metadata": {},
   "outputs": [],
   "source": [
    "os.makedirs('example folder/ inside folder/inside folder')"
   ]
  },
  {
   "cell_type": "code",
   "execution_count": 12,
   "id": "9c01c6d6",
   "metadata": {},
   "outputs": [
    {
     "data": {
      "text/plain": [
       "' inside folder/inside folder'"
      ]
     },
     "execution_count": 12,
     "metadata": {},
     "output_type": "execute_result"
    }
   ],
   "source": [
    "os.path.join(' inside folder', 'inside folder')"
   ]
  },
  {
   "cell_type": "code",
   "execution_count": 13,
   "id": "0b9e1296",
   "metadata": {},
   "outputs": [
    {
     "data": {
      "text/plain": [
       "'/Users/abdulrasheed/Desktop/Data Science'"
      ]
     },
     "execution_count": 13,
     "metadata": {},
     "output_type": "execute_result"
    }
   ],
   "source": [
    "#deleting folders\n",
    "os.getcwd()"
   ]
  },
  {
   "cell_type": "code",
   "execution_count": 40,
   "id": "31271376",
   "metadata": {},
   "outputs": [
    {
     "ename": "FileNotFoundError",
     "evalue": "[Errno 2] No such file or directory: 'Data1'",
     "output_type": "error",
     "traceback": [
      "\u001b[0;31m---------------------------------------------------------------------------\u001b[0m",
      "\u001b[0;31mFileNotFoundError\u001b[0m                         Traceback (most recent call last)",
      "Cell \u001b[0;32mIn[40], line 1\u001b[0m\n\u001b[0;32m----> 1\u001b[0m os\u001b[38;5;241m.\u001b[39mremove(\u001b[38;5;124m'\u001b[39m\u001b[38;5;124mData1\u001b[39m\u001b[38;5;124m'\u001b[39m)\n",
      "\u001b[0;31mFileNotFoundError\u001b[0m: [Errno 2] No such file or directory: 'Data1'"
     ]
    }
   ],
   "source": [
    "os.remove('Data1')"
   ]
  },
  {
   "cell_type": "code",
   "execution_count": null,
   "id": "88bbf10e",
   "metadata": {},
   "outputs": [],
   "source": [
    "#if the folder has another folder or file"
   ]
  },
  {
   "cell_type": "code",
   "execution_count": null,
   "id": "ad9f8c0f",
   "metadata": {},
   "outputs": [],
   "source": [
    "#Delete the folder B\n",
    "os.rmdir('example folder/A/B')"
   ]
  },
  {
   "cell_type": "code",
   "execution_count": null,
   "id": "08fd6590",
   "metadata": {},
   "outputs": [],
   "source": [
    "#listing the directory"
   ]
  },
  {
   "cell_type": "code",
   "execution_count": null,
   "id": "03593441",
   "metadata": {},
   "outputs": [],
   "source": [
    "os.listdir()"
   ]
  },
  {
   "cell_type": "code",
   "execution_count": null,
   "id": "65acb46c",
   "metadata": {},
   "outputs": [],
   "source": [
    "os.listdir('example folder')"
   ]
  },
  {
   "cell_type": "code",
   "execution_count": null,
   "id": "27b318f1",
   "metadata": {},
   "outputs": [],
   "source": [
    "for i in os.listdir('example folder'):\n",
    "    if i != '.DS_Store':\n",
    "        print(i)"
   ]
  },
  {
   "cell_type": "code",
   "execution_count": null,
   "id": "755332e8",
   "metadata": {},
   "outputs": [],
   "source": [
    "!touch python.txt"
   ]
  },
  {
   "cell_type": "code",
   "execution_count": null,
   "id": "dd312ca1",
   "metadata": {},
   "outputs": [],
   "source": [
    "#Creatig Multiple folder in a folder"
   ]
  },
  {
   "cell_type": "code",
   "execution_count": null,
   "id": "095fe771",
   "metadata": {},
   "outputs": [],
   "source": [
    "f_name = input(\"Enter folder name: \")\n",
    "\n",
    "os.mkdir(f_name)\n",
    "for i in range(10):\n",
    "    i = str(i+1)\n",
    "    name = f_name+'/'+f_name+' '+i\n",
    "    os.mkdir(name)\n",
    "    for j in range(5):\n",
    "        n = name+'/'+'Test'+str(j+1)\n",
    "        os.mkdir(n)"
   ]
  },
  {
   "cell_type": "code",
   "execution_count": null,
   "id": "8b57f408",
   "metadata": {},
   "outputs": [],
   "source": [
    "os.path.exists('Experiment folder/1')"
   ]
  },
  {
   "cell_type": "code",
   "execution_count": null,
   "id": "df3028d9",
   "metadata": {},
   "outputs": [],
   "source": [
    "if os.path.exists('Experiment folder/10'):\n",
    "    print(\"Folder Already Exists\")\n",
    "else:\n",
    "    os.mkdir('Experiment folder/10')"
   ]
  },
  {
   "cell_type": "code",
   "execution_count": null,
   "id": "98a09446",
   "metadata": {},
   "outputs": [],
   "source": [
    "os.path.getsize('Experiment folder')"
   ]
  },
  {
   "cell_type": "code",
   "execution_count": null,
   "id": "09ad3923",
   "metadata": {},
   "outputs": [],
   "source": [
    "#Multuiple file reading(Bulk file reading) & wirting into a new file"
   ]
  },
  {
   "cell_type": "code",
   "execution_count": 18,
   "id": "c9880448",
   "metadata": {},
   "outputs": [],
   "source": [
    "os.chdir('File')"
   ]
  },
  {
   "cell_type": "code",
   "execution_count": 19,
   "id": "dd34e82e",
   "metadata": {},
   "outputs": [],
   "source": [
    "file = os.listdir()"
   ]
  },
  {
   "cell_type": "code",
   "execution_count": 20,
   "id": "6d0944bd",
   "metadata": {},
   "outputs": [
    {
     "data": {
      "text/plain": [
       "['words 3 copy 4.txt',\n",
       " 'words 3 copy 5.txt',\n",
       " 'words 3 copy 7.txt',\n",
       " 'words 3 copy 6.txt',\n",
       " 'words copy 8.txt',\n",
       " 'words 3 copy 2.txt',\n",
       " 'words 3 copy 3.txt',\n",
       " 'words 4 copy 3.txt',\n",
       " 'words 2 copy 8.txt',\n",
       " 'words 4 copy 2.txt',\n",
       " 'words 4 copy 6.txt',\n",
       " 'words 4 copy 7.txt',\n",
       " 'words 4 copy 5.txt',\n",
       " 'words 4 copy 4.txt',\n",
       " 'words 2 copy 2.txt',\n",
       " 'words 2 copy 3.txt',\n",
       " 'words 4 copy 8.txt',\n",
       " 'words 2.txt',\n",
       " 'words 2 copy.txt',\n",
       " 'words 3 copy.txt',\n",
       " 'words 3.txt',\n",
       " 'words 2 copy 4.txt',\n",
       " 'words 2 copy 5.txt',\n",
       " 'words 4.txt',\n",
       " 'words 2 copy 7.txt',\n",
       " 'words 2 copy 6.txt',\n",
       " 'words copy 3.txt',\n",
       " 'words copy.txt',\n",
       " 'words.txt',\n",
       " 'words copy 2.txt',\n",
       " 'words copy 5.txt',\n",
       " 'words copy 4.txt',\n",
       " 'words copy 6.txt',\n",
       " 'words 4 copy.txt',\n",
       " 'words 3 copy 8.txt',\n",
       " 'words copy 7.txt']"
      ]
     },
     "execution_count": 20,
     "metadata": {},
     "output_type": "execute_result"
    }
   ],
   "source": [
    "file"
   ]
  },
  {
   "cell_type": "code",
   "execution_count": 21,
   "id": "7067207f",
   "metadata": {},
   "outputs": [
    {
     "data": {
      "text/plain": [
       "36"
      ]
     },
     "execution_count": 21,
     "metadata": {},
     "output_type": "execute_result"
    }
   ],
   "source": [
    "len(file)"
   ]
  },
  {
   "cell_type": "code",
   "execution_count": 33,
   "id": "5fa55fd7",
   "metadata": {},
   "outputs": [],
   "source": [
    "fd_write = open('Data.txt', 'a')\n",
    "\n",
    "\n",
    "for f in file:\n",
    "    if f != '.DS_Store':\n",
    "        fd_read = open(f,'r')\n",
    "        \n",
    "        fd_write.write(fd_read.read())\n",
    "        \n",
    "        fd_read.close()\n",
    "        \n",
    "        \n",
    "fd_write.close()\n"
   ]
  }
 ],
 "metadata": {
  "kernelspec": {
   "display_name": "Python 3 (ipykernel)",
   "language": "python",
   "name": "python3"
  },
  "language_info": {
   "codemirror_mode": {
    "name": "ipython",
    "version": 3
   },
   "file_extension": ".py",
   "mimetype": "text/x-python",
   "name": "python",
   "nbconvert_exporter": "python",
   "pygments_lexer": "ipython3",
   "version": "3.11.4"
  }
 },
 "nbformat": 4,
 "nbformat_minor": 5
}
